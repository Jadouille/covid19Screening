{
 "cells": [
  {
   "cell_type": "code",
   "execution_count": 1,
   "metadata": {},
   "outputs": [],
   "source": [
    "import numpy as np\n",
    "import pandas as pd\n",
    "import matplotlib.pyplot as plt"
   ]
  },
  {
   "cell_type": "code",
   "execution_count": 2,
   "metadata": {},
   "outputs": [],
   "source": [
    "df_case = pd.read_csv(\"Korea/PatientInfo.csv\")\n",
    "df_case = df_case.rename(columns = {'confirmed_date':'date'})\n",
    "df_float = pd.read_csv(\"Korea/SeoulFloating.csv\")\n",
    "df_regions = pd.read_csv(\"Korea/Region.csv\")\n",
    "df_weather = pd.read_csv(\"Korea/Weather.csv\")"
   ]
  },
  {
   "cell_type": "code",
   "execution_count": 3,
   "metadata": {},
   "outputs": [],
   "source": [
    "case_city = pd.DataFrame(df_case.groupby(['date', 'city']).count()['patient_id']).reset_index()\n",
    "fp_city = pd.DataFrame(df_float.groupby(['date', 'city']).sum()['fp_num']).reset_index()\n",
    "fp_age = pd.DataFrame(df_float.groupby(['date', 'city', 'sex', 'birth_year']).sum()['fp_num']).reset_index()"
   ]
  },
  {
   "cell_type": "code",
   "execution_count": 4,
   "metadata": {},
   "outputs": [],
   "source": [
    "df_corona = case_city.merge(fp_city, how='right', on = ['date', 'city']).fillna(0)\n",
    "df_corona['propotion_case'] = df_corona['patient_id']/df_corona['fp_num']\n",
    "df_corona = df_corona.drop(['patient_id'], axis = 1).sort_values(['date'])"
   ]
  },
  {
   "cell_type": "code",
   "execution_count": 5,
   "metadata": {},
   "outputs": [],
   "source": [
    "from datetime import datetime, timedelta\n",
    "\n",
    "def symptom_apparition(date, onset):\n",
    "    if onset == True:\n",
    "        contamination = [(datetime.strptime(date, '%Y-%m-%d') - timedelta(days=x)).strftime('%Y-%m-%d') for x in range(2,12)]\n",
    "    else : \n",
    "        contamination = [(datetime.strptime(date, '%Y-%m-%d') - timedelta(days=x)).strftime('%Y-%m-%d') for x in range(4,14)]\n",
    "    return contamination"
   ]
  },
  {
   "cell_type": "code",
   "execution_count": 6,
   "metadata": {},
   "outputs": [],
   "source": [
    "df_case['contamination_period'] = df_case[['symptom_onset_date', 'date']] \\\n",
    ".apply(lambda x : symptom_apparition(x['symptom_onset_date'], True)  if pd.notnull(x['symptom_onset_date']) \\\n",
    "else (symptom_apparition(x['date'], False) if pd.notnull(x['date']) \\\n",
    "else 'NaN'), axis = 1)\n",
    "case_daily = df_case[['contamination_period', 'city', 'sex', 'age', 'patient_id']].explode('contamination_period').groupby(['contamination_period', 'city', 'sex', 'age']).count().reset_index()"
   ]
  },
  {
   "cell_type": "code",
   "execution_count": 7,
   "metadata": {},
   "outputs": [],
   "source": [
    "df_corona = df_corona.merge(case_daily, left_on = ['date', 'city'], right_on = ['contamination_period', 'city']) \\\n",
    ".drop(['contamination_period'], axis = 1)\n",
    "df_corona = df_corona.rename(columns = {'patient_id':'total_number'})\n",
    "df_corona['contaminated'] = np.ones(len(df_corona))\n",
    "df_corona['age'] = df_corona['age'].apply(lambda x : int(x[:-1]))"
   ]
  },
  {
   "cell_type": "code",
   "execution_count": 8,
   "metadata": {},
   "outputs": [],
   "source": [
    "df_corona = df_corona.merge(fp_age, how = 'right', left_on = ['date', 'city', 'sex', 'age'], right_on = ['date', 'city', 'sex', 'birth_year']) \\\n",
    ".drop(['age'], axis = 1)\n",
    "df_corona['combined'] = df_corona[['total_number', 'fp_num_y']].values.tolist()\n",
    "df_corona = df_corona.explode('combined').drop(['total_number', 'fp_num_y'], axis = 1)\n",
    "df_corona = df_corona.merge(fp_city, how='right', on = ['date', 'city']).fillna(0).drop(['fp_num_x'], axis = 1)\n",
    "df_corona['contaminated'] = df_corona.apply(lambda x : 1-x.index%2)['contaminated']\n",
    "df_corona['new_combined'] = df_corona['combined'].diff()"
   ]
  },
  {
   "cell_type": "code",
   "execution_count": 9,
   "metadata": {},
   "outputs": [],
   "source": [
    "df_corona['group_number'] = np.where(df_corona.index % 2 == 0, df_corona.combined, df_corona.new_combined)\n",
    "df_corona = df_corona.drop(['combined', 'new_combined'], axis = 1)\n",
    "df_corona = df_corona.rename(columns = {'fp_num':'total_number'})\n",
    "df_corona = df_corona.merge(df_regions, on = ['city']).drop(['code'], axis = 1)\n",
    "df_corona = df_corona.merge(df_weather, on = ['date', 'province'])"
   ]
  },
  {
   "cell_type": "code",
   "execution_count": 11,
   "metadata": {},
   "outputs": [],
   "source": [
    "df_corona.to_csv('corona.csv')"
   ]
  },
  {
   "cell_type": "code",
   "execution_count": null,
   "metadata": {},
   "outputs": [],
   "source": []
  }
 ],
 "metadata": {
  "kernelspec": {
   "display_name": "Python 3",
   "language": "python",
   "name": "python3"
  },
  "language_info": {
   "codemirror_mode": {
    "name": "ipython",
    "version": 3
   },
   "file_extension": ".py",
   "mimetype": "text/x-python",
   "name": "python",
   "nbconvert_exporter": "python",
   "pygments_lexer": "ipython3",
   "version": "3.8.2"
  }
 },
 "nbformat": 4,
 "nbformat_minor": 4
}
